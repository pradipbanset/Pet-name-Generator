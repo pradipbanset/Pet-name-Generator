{
 "cells": [
  {
   "cell_type": "code",
   "execution_count": 3,
   "metadata": {},
   "outputs": [
    {
     "name": "stdout",
     "output_type": "stream",
     "text": [
      "content=\"Samyam is a popular Indian spiritual guru and motivational speaker, known for his inspiring talks and advice on self-improvement, personal growth, and spirituality. He has gained a large following in India and globally, particularly among the youth.\\n\\nSamyam's real name is Samyam Raj, and he was born on September 12, 1987, in the state of Uttar Pradesh, India. He started his career as a motivational speaker and life coach, and gained popularity through his YouTube videos and social media platforms.\\n\\nSamyam's teachings focus on topics such as:\\n\\n1. Self-awareness and self-improvement\\n2. Mindfulness and meditation\\n3. Emotional intelligence and management\\n4. Goal-setting and achievement\\n5. Relationship building and communication\\n\\nHe is known for his simple, relatable, and practical approach to spirituality and self-improvement, making his teachings accessible to people from all walks of life. Samyam has also written several books on spirituality and self-improvement, which have been well-received by his audience.\\n\\nMany of Samyam's fans and followers appreciate his down-to-earth and non-judgmental approach, which makes his teachings feel more like a conversation with a friend rather than a lecture from a guru.\" additional_kwargs={} response_metadata={'token_usage': {'completion_tokens': 258, 'prompt_tokens': 15, 'total_tokens': 273, 'completion_time': 0.215, 'prompt_time': 0.002665669, 'queue_time': 0.019412741, 'total_time': 0.217665669}, 'model_name': 'llama3-8b-8192', 'system_fingerprint': 'fp_6a6771ae9c', 'finish_reason': 'stop', 'logprobs': None} id='run-861124df-dc20-4104-947a-78c5769f945e-0' usage_metadata={'input_tokens': 15, 'output_tokens': 258, 'total_tokens': 273}\n"
     ]
    }
   ],
   "source": [
    "import getpass\n",
    "import os\n",
    "\n",
    "if not os.environ.get(\"GROQ_API_KEY\"):\n",
    "  os.environ[\"GROQ_API_KEY\"] = getpass.getpass(\"Enter API key for Groq: \")\n",
    "\n",
    "from langchain_groq import ChatGroq\n",
    "\n",
    "model = ChatGroq(model=\"llama3-8b-8192\")\n",
    "response = model.invoke(\"who is samyam\")\n",
    "print(response)"
   ]
  },
  {
   "cell_type": "code",
   "execution_count": null,
   "metadata": {},
   "outputs": [],
   "source": []
  }
 ],
 "metadata": {
  "kernelspec": {
   "display_name": ".venv",
   "language": "python",
   "name": "python3"
  },
  "language_info": {
   "codemirror_mode": {
    "name": "ipython",
    "version": 3
   },
   "file_extension": ".py",
   "mimetype": "text/x-python",
   "name": "python",
   "nbconvert_exporter": "python",
   "pygments_lexer": "ipython3",
   "version": "3.12.7"
  }
 },
 "nbformat": 4,
 "nbformat_minor": 2
}
